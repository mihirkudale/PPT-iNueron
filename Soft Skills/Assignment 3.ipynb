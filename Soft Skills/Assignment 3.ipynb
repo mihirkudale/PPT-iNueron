{
 "cells": [
  {
   "cell_type": "markdown",
   "metadata": {},
   "source": [
    "Based on the takeaway from the topics discussed in the previous session complete the following tasks.\n",
    "\n",
    "Come up with an elaborate Goal setting plan with getting a job as an objective. The role has to be relevant to the course that you are currently pursuing.\n",
    "\n",
    "Develop a daily schedule based on the template discussed in the class and adhere to it.\n",
    "\n",
    "Generate a schematic stress management plan by including various aspects of stress management discussed in the session.\n",
    "\n",
    "Ans: \n",
    "\n",
    "**Goal Setting Plan**\n",
    "\n",
    "* **Goal:** Get a job as a software engineer within 6 months.\n",
    "* **Specific:** I will submit at least 3 high-quality job applications per week, and I will attend at least 2 networking events per month.\n",
    "* **Measurable:** I will track the number of job applications I submit and the number of networking events I attend.\n",
    "* **Attainable:** I am confident that I can achieve this goal because I have a strong academic background in computer science, and I have been actively networking with people in the software engineering industry.\n",
    "* **Relevant:** This goal is relevant to the course I am currently pursuing because I am studying computer science.\n",
    "* **Time-bound:** I will achieve this goal within 6 months.\n",
    "\n",
    "**Daily Schedule**\n",
    "\n",
    "* **Morning:**\n",
    "    * Wake up at 7:00 AM.\n",
    "    * Meditate for 10 minutes.\n",
    "    * Eat breakfast and review my goals for the day.\n",
    "    * Work on job applications for 1 hour.\n",
    "* **Afternoon:**\n",
    "    * Attend networking events or meet with mentors.\n",
    "    * Work on personal projects or study for technical interviews.\n",
    "* **Evening:**\n",
    "    * Relax and unwind.\n",
    "    * Reflect on my progress and make adjustments to my goals as needed.\n",
    "\n",
    "**Stress Management Plan**\n",
    "\n",
    "* **Identify your stressors:** The first step to managing stress is to identify the things that are causing you stress. Once you know what your stressors are, you can start to develop strategies for coping with them.\n",
    "* **Take breaks:** It's important to take breaks throughout the day, even if it's just for a few minutes. Get up and move around, or step outside for some fresh air.\n",
    "* **Exercise regularly:** Exercise is a great way to relieve stress and improve your overall health. Aim for at least 30 minutes of moderate-intensity exercise most days of the week.\n",
    "* **Get enough sleep:** When you're well-rested, you're better able to cope with stress. Aim for 7-8 hours of sleep each night.\n",
    "* **Practice relaxation techniques:** There are a number of relaxation techniques that can help you manage stress, such as meditation, deep breathing, and yoga.\n",
    "* **Talk to someone you trust:** If you're feeling overwhelmed by stress, talk to someone you trust, such as a friend, family member, therapist, or counselor."
   ]
  },
  {
   "cell_type": "markdown",
   "metadata": {},
   "source": []
  }
 ],
 "metadata": {
  "language_info": {
   "name": "python"
  },
  "orig_nbformat": 4
 },
 "nbformat": 4,
 "nbformat_minor": 2
}
